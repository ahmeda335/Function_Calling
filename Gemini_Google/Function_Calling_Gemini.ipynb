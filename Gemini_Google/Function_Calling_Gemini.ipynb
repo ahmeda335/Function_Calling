{
  "nbformat": 4,
  "nbformat_minor": 0,
  "metadata": {
    "colab": {
      "provenance": [],
      "authorship_tag": "ABX9TyPJ/HqxlLV1zgVWOEkMmNoK",
      "include_colab_link": true
    },
    "kernelspec": {
      "name": "python3",
      "display_name": "Python 3"
    },
    "language_info": {
      "name": "python"
    }
  },
  "cells": [
    {
      "cell_type": "markdown",
      "metadata": {
        "id": "view-in-github",
        "colab_type": "text"
      },
      "source": [
        "<a href=\"https://colab.research.google.com/github/ahmeda335/Function_Calling/blob/main/Gemini_Google/Function_Calling_Gemini.ipynb\" target=\"_parent\"><img src=\"https://colab.research.google.com/assets/colab-badge.svg\" alt=\"Open In Colab\"/></a>"
      ]
    },
    {
      "cell_type": "markdown",
      "source": [
        "# Function Calling ***Gemini***  🤖\n",
        "## Google provides the tool of function calling in some of its models, such that it uses the ability of understanding speech in its main model *gemini* in detecting the function to be called due to the user input.\n",
        "---\n",
        "# Notes:<br>\n",
        "### 🔔 Make sure that you don't put any personal information, or passwords in the code in the unpaid sessions, as Google uses it to improve its AI performance.\n",
        "### 🔔 For paid models you can find pricing information here ---> https://ai.google.dev/pricing.\n",
        "---\n",
        "\n",
        "\n",
        "\n"
      ],
      "metadata": {
        "id": "g0DaRDz8E148"
      }
    },
    {
      "cell_type": "markdown",
      "source": [
        "### Install the SDK package."
      ],
      "metadata": {
        "id": "1ZXXLX9tHW0Y"
      }
    },
    {
      "cell_type": "code",
      "execution_count": null,
      "metadata": {
        "colab": {
          "base_uri": "https://localhost:8080/"
        },
        "id": "Or9ZsoNkpVbX",
        "outputId": "4f9aed7b-ec26-495e-897c-5a872510d790"
      },
      "outputs": [
        {
          "output_type": "stream",
          "name": "stdout",
          "text": [
            "\u001b[2K   \u001b[90m━━━━━━━━━━━━━━━━━━━━━━━━━━━━━━━━━━━━━━━━\u001b[0m \u001b[32m153.4/153.4 kB\u001b[0m \u001b[31m6.1 MB/s\u001b[0m eta \u001b[36m0:00:00\u001b[0m\n",
            "\u001b[2K   \u001b[90m━━━━━━━━━━━━━━━━━━━━━━━━━━━━━━━━━━━━━━━━\u001b[0m \u001b[32m760.0/760.0 kB\u001b[0m \u001b[31m18.6 MB/s\u001b[0m eta \u001b[36m0:00:00\u001b[0m\n",
            "\u001b[?25h"
          ]
        }
      ],
      "source": [
        "!pip install -q -U google-generativeai"
      ]
    },
    {
      "cell_type": "code",
      "source": [
        "import google.generativeai as genai"
      ],
      "metadata": {
        "id": "mFPzAqr1pgO7"
      },
      "execution_count": null,
      "outputs": []
    },
    {
      "cell_type": "markdown",
      "source": [
        "### Configuring your API key.\n",
        "✅ In the case of you are using colab, you can set your API-KEY in this way in the cell. If You are using any other development environment or cURL in the terminal it is preferred to put the API-KEY in an environment variable as shown in the next cell.<br>\n",
        "✅ As I am using colab I will use the first method.<br><br>\n",
        "You can get your Gemini API Key from here -->  https://aistudio.google.com/app/apikey"
      ],
      "metadata": {
        "id": "SUCxgg59Hf-N"
      }
    },
    {
      "cell_type": "markdown",
      "source": [
        "👇👇Put Your API-KEY here.<br>\n",
        "\n",
        "![Untitled.png](data:image/png;base64,iVBORw0KGgoAAAANSUhEUgAAAE0AAAF1CAYAAACtV2fEAAAAAXNSR0IArs4c6QAAAARnQU1BAACxjwv8YQUAAAAJcEhZcwAAEnQAABJ0Ad5mH3gAABHbSURBVHhe7Z15lBTVFYeJS0ABURGQZUDUEBWPSgaGfRgY2R1OZDdBYECHbYBhk92ICLKDyOLI6oiAbLLJpuZEgYiQEA4DIvsiILtsJjH/vPTvmdep6b49XXW7mqGm7x/fGai69frVN6/qvXpTt1+B4iNeVoIzRBqDAjVq1FCCM0QaA5HGQKQxEGkMRBoDkcZApDEQaQxEGgORxkCkMRBpDEQaA5HGQKQxEGkMRBoDkcZApDG4JdKS6iaods2eVd1bP6W6tqys6tVJIOPsgGNbNnlOveIr5w8vPKMa169KxkWTqElrUj9ezegbpw7Mvlf9vLxAEMfmFFKbxzyoxnevGFZiK5+k9/uXU/tnFibLuvThXWrNGyVUxktPkMe7TVSkvfnKo+qi70SoE6S4mHWXmpURp5LrVctRTqOkqmrxsIfVPz/+FXkcxT+mF1FdXnw6Rzlu46q0RF+LQeuhTsYOVxffqRr973J7tVVldcEnk4oLx799LHytjKpVs3pQHd3ANWkNaldTn4/mCwMbRhfXZU3pVUGfOBXjhA3DS6ik2vz7ZyhckVbTx6YuJdWxfkXU8fcLkScQjmuL71DNk+PV4JcrkfudcvTde9TRPkXVxtRSun5Uvbm4Im1G20fUuX73ao72L6pOzS1Inkhu4J7Wvvmz6uZS+/evUByefo863Luov06Z7SqQ9eYSsbQW9X6nzmQU9lcQHPKJO2kRt+7Nh9Twzr9RbX3DjgaJ1VRa68pqUs9H1JkFv9b7T84rqOr6LqOvJtzvP4bihK/MCT0e0fe7+nWr6WHMyNTH1edj/39bOOJrYQfT78tRH9C+wXNk/TlELG35y2WCKggODyii9s8orAZ2+C15HEBvCaGDOlTSYziroECWjyylx3tUOQC/lL1TiqiDvYOFAdSTOo5DRNKSaiWoH4gKArQ+J7/djW8VJ2WBpcNLkccE0j75uaBWb61P3Vru9KYRSevT9CmygmBK60fJY0JxeRE9vDjuGwRjKEMdQzGtTUWyPqBX08rkMU6JSNrkVo+SlUPrS/S1QuoYiqYN4klhAMMP6phQYOhD1QlM9NWXOsYpEUmb/1IcWblvuj1IxoeiQ8ozpDDAGd3v9H0+Va+57cuT8U6JSNrKjnQnsOiP5cj4UKS3e5IUhgFuHcZ9CJ9P1WuFr75UvFMikra4Q1mycus6P0zGhwIzFpQ08Hw957MYazo9TNYL9aXinRKRtFltK5CV29erGBkfCkz1UMJAn/bOZy6yexYj64VBOBXvlIikvfbCE2TlQM8m9nsqPObgMYqShoErdUwoevg+l6oPGNjcnamjiKQl1wndU6G1ORkXff526If9vjbnyfB5+32fS9UHPTp6Vuo4p0QkDXydVpysJMjsFqdqhxGHR6tmvgf1cd0rksLAjreLqZZJVcjjDbVrVg/ZAYCtrz5EHschYmkjWlQiK7ltxAP6hPfNLKxaNw1+MsAlOTW9grqx5A61+k8lVMOkqnoGNlDY8VmF9LPkqb6F1VsvPk7OWLSqX0XtSKOHGYahKaEf55wSsTScxF8DWtvXr+d88MbQ4VDmPWrD6IfUh0NKqx1T7gt6Auj8+6eDWtvxmYXUgfScl9vR3kXVli4l9cwFnif/1v2BHPsp3GxlIGJpAL/pE32K6ApuH/5LC3PKnneLqFo1fb+AycX0/0/NLhgkjAPqFe7Sdoor0kC67zn0q6GRzdyO6vqYnvnYPbGoTxg9W+EE3PzRm1L1jQTXpIFebZ9UPyy8mxRih/NZd+v5tuaJ8SEfhexyOqOw6tfsSbKekeKqNIAbOuePK+gQ8Gc689hUv3aC2pBaihQSDgw7OjV8JqhubuG6NMOI1MfVlUV3koKs/GtZAfXJn0rqmQ6qnA7PP6tWdSytWw4lyApu+EN8vSSGH1RZbhE1aQBT2Km+XnFsWkW1bEQp9Y2v19w+qZha+XpJNbNvnJ6qpoYjFJhqyvBdbrN9vebHvmdI/CHnk06l9UwLhiK4pKnjokFUpeVXRBoDkcZApDEQaQxEGgORxkCkMRBpDEQaA5HGQKQxEGkMRBoDkcZApDEQaQxEGgORxkCkMRBpDEQaA5HGQKQxEGkMCqSmpirBGZ5qaagwtf1WI9IYiDQGIo2BSGMg0hiINAYijYFIYyDSGIg0BiKNgUhjINIYiDQLnTp1UiNHjtQ/qf0GkWZhxYoV6qefftI/qf0GkWZBpDEQaQxEWhjS0tLUwYMH1aVLl/xcuXJFS8NP63bEId4cK9IsckQag6hdnhMmTFAbNmxQM2fOVPXr1ydjooUnpS1cuFBdvXpVF3zz5k315Zdf6u1t2rRRWVlZavXq1Y6YO3du0Gfkhiel7dmzRxdqOHnypOrRo4cG/7bus8O3335Lfk4oPClt27ZtOU768OHD+pGDuqnaYffu3eTnhCLa0qLyGNWnTx/13Xff6Uvz+++/V2PHjiXjokW0pdnFcUeQl4g0Bp6UlpKSotasWaPOnj2rdu3apbp160bGRQtPSlu3bp2+n5mOADdyjNVw49y6davKzs52xObNm8nPCYUnpWGIYO0989uQwy7S0hjIPY2BI2l5jUhj4Elp8kTwC46k5fdnT7s4kpbfZzns4kja7TCfdjvguCPI65nbKlWqRI0yZcrYwrG0vATS4uPjo0bZsmVt4TlpVatWjRrlypWzheekVatWzU9CQoKrxMXF2cJz0qwnWb16dVehBFF4Uhp1wm5Qvnx5W3hOmjlBan+kUIIoPCmN2ucGlCAKkWaBEkThOWnUdregBFGINAuUIAqRZoESRCHSLFCCKESaBUoQhUizQAmiEGkWKEEUIs0CJYhCpFmgBFGINAuUIAqRZoESRCHSLFCCKESaBUoQhUizQAmiEGkWKEEUIs0CJYhCpFmgBFGINAuUIAqRZoESRCHSLFCCKESaBUoQhUizQAmiiEhau3btVGZmptqxY4d+xX3v3r3q008/VQMHDiTjI8XT0vBe2vLly9Xly5eD3m40L/zhrUm3X5n3rDQIwxuQJgkDP8+dO6f279+v38G9fv26X96JEyf0y81UORw8Kw2vfd64cUNLgaRRo0bl2I9LFlJNDGRimzWGiyelDRs2TLcqyDh06JDq0qULGQeMXLB06VIyximelLZy5Up9Of7444/qnXfeIWMMaF14TR6C8RMvM1NxTvCktO3bt2sJR48eDZvnDdavX6/jz5w5o/r160fGOMGT0kzqot33/823DyDRAgn1VIwTPCnNJF8g1cfO6/BG2oULF/T9kIpxgielffbZZ1rC+fPnbUnYuXOnjrd7OYfDk9KmTp2qv7wInQGSYnNrbegoTKzTZNhQeFIaJCEJDK0HQ4m1a9eS4pDVYoYmp06dcm2A60lpAAIw0ocQtKLjx4/rbOMxY8aoOXPm6Pue9akA9zO0UKosp3hWGhgwYIAee0GakRMIekzzfWRuifO0NIDLEll0R44c8bcsXLKnT5/WXxCApwWIgjC3xHleml3cFBcz0oBb4mJKGnBDXMxJA5GKi0lpwIjDTMn8+fPJmFDErDQwfvx4NXnyZHJfbsS0NC4ijYFIYyDSGIg0BiKNQbSl2UWkMRBpDEQaA5HGQKQxEGkMRBoDkcZApDEQaQxEGgORxkCkMRBpDEQaA5HGQKQxEGkMRBoDkcZApDEQaQwcS0tOTlaDBw/W6xE0aNCAjAlFUlKSmjVrlj6+ZcuWZExueFLakCFD9CtSeAEZmXWJiYlkXCjq1KmjkzaQwYd31N577z0yLhSek9a4cWN/JnGkKTtYkwXlgCZNmpAxFJ6T1rVrV/+JQiAVY5eGDRv6y3KS/uM5ab179/afKE46cD/uUdOmTdPrryxYsEDVqlVLb2/UqJH+P7bj39iG1+lNWT179sxRTm7kK2nIYkEuwYEDB/wx2Na6dWt/dgtAB4B4keYDPSpE1K1bV2eqIAZZyEhxRAubMWOGWrVqlT+PKialQRIVA6yrmCHpn+phsc3E5Gtp+IISnCRaUs2aNckYgGGEEdKxY0cyBpgWmZGRQe6n8JQ0SNq0aZM+yY8++oiMMaSnp/ul4Z5GxQCTdYw8Kmo/hWekITHMZAgjdzPcUwByA4y0N954g4wBuMSRfIY4fO1O586dyTgrnm1pSIylYkCvXr10Jp5ZTBBfrUPFgS+++ELHbNy4MdfL3Ypn72kXL14k97do0UIvyztx4kS1aNEiHYshCPZh4cEpU6b4YzGGw36A3FGzPRyek4ZezpwohhbYhnU9kXa9bNkyPbzYsmWL3j506FB/LJ5RcdOHVFNWvXr1/Pv79+/v3x4Oz0nDpWdOFLMV2IZ7ltmGNGwzDsPI3yxpCQYNGpSjLOs4LV+3NEoabuaTJk1S06dPD3rwRi86e/ZsckgR09K4xIw0DAnMieb2RGAHHG/Kwn2RiqHwnDQ8b167dk2faKSVhyiUg8lMM/NhB89JA0hwxcliaDFu3Dg9E0vFhQK97pIlS3SPi47C6WSmJ6UBPLjjBg9Mb2kX8zcCTJtzLnHPSstLRBoDkcZApDEQaQxEGgORxkCkMRBpDEQaA5HGQKQxEGkMRBoDkcZApDEQaQxEGgORxkCkMYiWtNGvP6b+vu0+/ZPaH0jMS5s7s5xS1wtofr50h0pMTCDjrMS0NKswsGVtcTIukJiVNn50xRzCvv7z/bZaGYhJac2bxetLkSMMxKS0VUtK+YUd2lPYkTAQc9IC72Ov9a9ExuVGTEkLFIbLkooLR8xIo4Q5vSwNMSHNTWHAE9Iy0p/QI/a5s5292gXcFgZue2kQduOHu/QJ/+fynWRMKKIhDNz20i6duDvHiVMxFNESBtjS8NY2lp8EbiwOGArriQMqJpBoCgOOpKWkpOgl3MziMgasVHbs2DGdWUwdxwUjd+vJAyrOSrSFAdvSsJwu1lnPbSk3ZBcjKdbpa6WhWPpB6RwCdvylIhlnuBXCgC1pkGBWW4Q0rIqNlRWxHTKR44kldrEfCWXIKqbKcULg8yFISwudP3qrhAFb0ubNm6dfh4cwZA7jMg2Msa7GiBaHfCi7YDHCwHwC6/MhwLQNNU57PrlqUIuMpjBgS5pZdhcpifhODWzDNyAg/3Pfvn3+tdixECq+7ASxTrCWCwJbDYCEQGmY3jHDEUO0hYGw0tACTAtCK8M2s0qsOWkku6KlYdnwrKwsvQa7HXbt2hUkLXCey4B9VmmU2FshDISVhpMxSa9IocY2k0ptQCKF06/AAaYcI426jxkQD2nU5Xj2cEHb8/tucMtaGjoHkzyGdUGxLbClBcowmGnoD+bUzJPLMZBbdk+ztkaznrsB5b47tXmQEAOk5OXlGIgtaZH0nvhSJxxHSTNx6D2vnbk3SEoobvXlGIgtaZGM07APwihp+GnirFKyvymS4/9W8qp1WbElDXCfCIw0Kt4qLVQHEA0ibam2pQHOs6ddabOmlidPMFrgl2StpxMcSbNid5YDLRR5nSbWSmB+Oy679StKkCfpNnjisH62E9jS8gLudLfbiDQGIo2BSGMg0hiINAYijYFIYyDSGIg0BiKNgUhjINIYiDQGIo2BSGMg0hiINAYijYFIYyDSGIg0BiKNgUhjINIYiDQGIo2BSGMg0hiINAYijYFIY2BbGl4JxTrFW7duVdnZ2SThlnyLFM9Jw3v/eAmZeg3UgNdEc1uVLFI8JQ2tDItpGTHmdXcr5r1a/IRg6nXRQJwm13pKmjXVx2StBIKFt8xr8XZB1ktmZiZZHkW+kwY44pDxQpVFkS+lOQHloDxr6lA4RJpIc45IYyDSGIg0BiKNgUhjINIYiDQGIo1BvpdmZ5bDKWZWBOVa07dzw1PSgJ35NKegPJRLfR6F56TZmbl1AspBeXZbGfCctNsBkcZApDEQaQxEGgORxkCkMRBpDEQaA5HGQKQxEGkMRBoDkcZApDEQaQxEGgORxkCkMRBpDEQaA5HGQKQxEGkMRBoDkcZApDEQaQxEGgORxkCkMRBpDEQag9tCWrf5Is05DUQaB5HGQKQxEGkMRBoDkcZApDEQaQxEGgORxkCkMRBpDEQaA5HGQKQxEGkMRBoDkcZApDEQaQxEGgORxkCkMRBpDESaY2qo/wKnkr3dygsvTAAAAABJRU5ErkJggg==)"
      ],
      "metadata": {
        "id": "FJQIG1PFIbM6"
      }
    },
    {
      "cell_type": "code",
      "source": [
        "from google.colab import userdata\n",
        "API_KEY = userdata.get('GEMINI-API-KEY')"
      ],
      "metadata": {
        "id": "3HCsg_yPjhQj"
      },
      "execution_count": null,
      "outputs": []
    },
    {
      "cell_type": "code",
      "source": [
        "# from dotenv import load_dotenv\n",
        "# load_dotenv()\n",
        "\n",
        "# !export GEMINI-API-KEY = <YOUR_API_KEY>   # Replace '<YOUR_API_KEY>' with you API-KEY. If you are using the terminal don't use '!' before 'export'.\n",
        "# API_KEY = os.getenv('GEMINI-API-KEY')"
      ],
      "metadata": {
        "id": "cLYsOPzDn3w1"
      },
      "execution_count": null,
      "outputs": []
    },
    {
      "cell_type": "code",
      "source": [
        "genai.configure(api_key=API_KEY)"
      ],
      "metadata": {
        "id": "L3gnf7h1py8o"
      },
      "execution_count": null,
      "outputs": []
    },
    {
      "cell_type": "markdown",
      "source": [
        "### Detecting the model to be used from the available models that provide function calling."
      ],
      "metadata": {
        "id": "--GuqxjFIqRV"
      }
    },
    {
      "cell_type": "code",
      "source": [
        "model_name = \"models/gemini-1.5-flash-latest\"  #@param[\"models/gemini-1.5-pro-latest\", \"models/gemini-1.5-flash-latest\", \"models/gemini-1.0-pro-001\", \"models/gemini-1.0-pro\"]"
      ],
      "metadata": {
        "cellView": "form",
        "id": "a9cqiqUaqFnD"
      },
      "execution_count": null,
      "outputs": []
    },
    {
      "cell_type": "markdown",
      "source": [
        "###Initializing our functions\n",
        "#### Note:\n",
        "#### 🔔 Don't forget to make a docstring for each function which contains its definition, Arguments, types of its arguments, and the return value. <br>\n",
        "#### 🔔 Try to describe each function as you can as the model uses this documentation to know what the function do, its parameters, their types, and the return values."
      ],
      "metadata": {
        "id": "N9iWWo0er8nO"
      }
    },
    {
      "cell_type": "code",
      "source": [
        "# Do not forget to detect the types of the variables.\n",
        "\n",
        "def video_downloader(video_url:str, video_quality:int):\n",
        "  \"\"\"\n",
        "  Downloading a video from youtube using its url with the chosen quality.\n",
        "\n",
        "  Args:\n",
        "      video_url: The url of the video to be downloaded, this url is taken from youtube.\n",
        "      video_quality: The quality of the video to be downloaded.\n",
        "\n",
        "  Returns:\n",
        "      A string showing that the video has been downloaded showing its quality.\n",
        "  \"\"\"\n",
        "\n",
        "  print(\"Downloading video...\")\n",
        "\n",
        "  return f\"video downloaded with quality {video_quality}\"\n",
        "\n",
        "\n",
        "def audio_downloader(audio_url:str, audio_quality:int):\n",
        "  \"\"\"\n",
        "  Downloading an audio from youtube using its url with the chosen quality.\n",
        "\n",
        "  Args:\n",
        "      audio_url: The url of the audio to be downloaded, this url is taken from youtube.\n",
        "      audio_quality: The quality of the audio to be downloaded.\n",
        "\n",
        "  Returns:\n",
        "      A string showing that the audio has been downloaded showing its quality.\n",
        "  \"\"\"\n",
        "\n",
        "  print(\"Downloading audio...\")\n",
        "\n",
        "  return f\"audio downloaded with quality {audio_quality}\"\n",
        "\n",
        "\n",
        "def playlist_downloader(playlist_url:str, playlist_quality:int=360):\n",
        "  \"\"\"\n",
        "  Downloading an playlist from youtube using its url with the chosen quality.\n",
        "\n",
        "  Args:\n",
        "      playlist_url: The url of the playlist to be downloaded, this url is taken from youtube.\n",
        "      playlist_quality: The quality of the playlist to be downloaded.\n",
        "\n",
        "  Returns:\n",
        "      A string showing that the playlist has been downloaded showing its quality.\n",
        "  \"\"\"\n",
        "\n",
        "  print(\"Downloading playlist...\")\n",
        "\n",
        "  return f\"playlist downloaded with quality {playlist_quality}\"\n",
        "\n",
        "\n",
        "functions = [video_downloader, audio_downloader, playlist_downloader]"
      ],
      "metadata": {
        "id": "-8nwXzVRrXbU"
      },
      "execution_count": null,
      "outputs": []
    },
    {
      "cell_type": "markdown",
      "source": [
        "###Declare functions during model initialization.\n",
        "#### Note: <br>\n",
        "#### 🔔 you can make the declaration of functions to the model manually, but here the model understands each function because I made a definition for each function."
      ],
      "metadata": {
        "id": "tsOiAoQ4uENR"
      }
    },
    {
      "cell_type": "code",
      "source": [
        "model = genai.GenerativeModel(model_name=model_name, tools=functions)"
      ],
      "metadata": {
        "id": "JwhtzWNeuIik"
      },
      "execution_count": null,
      "outputs": []
    },
    {
      "cell_type": "markdown",
      "source": [
        "➡️ If you want to see the how the functions are described.<br>\n",
        "➡️ Notice the required parameters in 'playlist_downloader' function and detect why!?"
      ],
      "metadata": {
        "id": "WhOEj7qLwdvk"
      }
    },
    {
      "cell_type": "code",
      "source": [
        "model._tools.to_proto()"
      ],
      "metadata": {
        "colab": {
          "base_uri": "https://localhost:8080/"
        },
        "id": "_wVnUbhlvdl4",
        "outputId": "850a6a36-77b4-4c1c-9bef-81fd8a8ee298"
      },
      "execution_count": null,
      "outputs": [
        {
          "output_type": "execute_result",
          "data": {
            "text/plain": [
              "[function_declarations {\n",
              "   name: \"video_downloader\"\n",
              "   description: \"\\n  Downloading a video from youtube using its url with the chosen quality.\\n\\n  Args:\\n      video_url: The url of the video to be downloaded, this url is taken from youtube.\\n      video_quality: The quality of the video to be downloaded.\\n\\n  Returns:\\n      A string showing that the video has been downloaded showing its quality.  \\n  \"\n",
              "   parameters {\n",
              "     type_: OBJECT\n",
              "     properties {\n",
              "       key: \"video_quality\"\n",
              "       value {\n",
              "         type_: INTEGER\n",
              "       }\n",
              "     }\n",
              "     properties {\n",
              "       key: \"video_url\"\n",
              "       value {\n",
              "         type_: STRING\n",
              "       }\n",
              "     }\n",
              "     required: \"video_url\"\n",
              "     required: \"video_quality\"\n",
              "   }\n",
              " }\n",
              " function_declarations {\n",
              "   name: \"audio_downloader\"\n",
              "   description: \"\\n  Downloading an audio from youtube using its url with the chosen quality.\\n\\n  Args:\\n      audio_url: The url of the audio to be downloaded, this url is taken from youtube.\\n      audio_quality: The quality of the audio to be downloaded.\\n\\n  Returns:\\n      A string showing that the audio has been downloaded showing its quality.  \\n  \"\n",
              "   parameters {\n",
              "     type_: OBJECT\n",
              "     properties {\n",
              "       key: \"audio_quality\"\n",
              "       value {\n",
              "         type_: INTEGER\n",
              "       }\n",
              "     }\n",
              "     properties {\n",
              "       key: \"audio_url\"\n",
              "       value {\n",
              "         type_: STRING\n",
              "       }\n",
              "     }\n",
              "     required: \"audio_url\"\n",
              "     required: \"audio_quality\"\n",
              "   }\n",
              " }\n",
              " function_declarations {\n",
              "   name: \"playlist_downloader\"\n",
              "   description: \"\\n  Downloading an playlist from youtube using its url with the chosen quality.\\n\\n  Args:\\n      playlist_url: The url of the playlist to be downloaded, this url is taken from youtube.\\n      playlist_quality: The quality of the playlist to be downloaded.\\n\\n  Returns:\\n      A string showing that the playlist has been downloaded showing its quality.  \\n  \"\n",
              "   parameters {\n",
              "     type_: OBJECT\n",
              "     properties {\n",
              "       key: \"playlist_quality\"\n",
              "       value {\n",
              "         type_: INTEGER\n",
              "       }\n",
              "     }\n",
              "     properties {\n",
              "       key: \"playlist_url\"\n",
              "       value {\n",
              "         type_: STRING\n",
              "       }\n",
              "     }\n",
              "     required: \"playlist_url\"\n",
              "   }\n",
              " }]"
            ]
          },
          "metadata": {},
          "execution_count": 123
        }
      ]
    },
    {
      "cell_type": "markdown",
      "source": [
        "### Starting the chat session.\n",
        "#### Note:\n",
        "🔔 In my case I used some functions which downloads videos, audios, and playlists from youtube. There are already library 'pytube' which do this, and I didn't specify the exact shape of the parameters of the functions (quality, url). In practical examples, you can use libraries like 'pydantic' to detect the exact shape of the arguments of the functions.<br>\n",
        "These are only guiding examples."
      ],
      "metadata": {
        "id": "c5PlZcKzLDnp"
      }
    },
    {
      "cell_type": "code",
      "source": [
        "# Call the API.\n",
        "chat = model.start_chat()\n",
        "response = chat.send_message(\"I want to download a video with url 'abc' \")\n",
        "response"
      ],
      "metadata": {
        "colab": {
          "base_uri": "https://localhost:8080/",
          "height": 781
        },
        "id": "WefdoERYugkq",
        "outputId": "e4b7aa9b-90b5-4fbe-9798-fb7a759176ec"
      },
      "execution_count": null,
      "outputs": [
        {
          "output_type": "execute_result",
          "data": {
            "text/plain": [
              "response:\n",
              "GenerateContentResponse(\n",
              "    done=True,\n",
              "    iterator=None,\n",
              "    result=protos.GenerateContentResponse({\n",
              "      \"candidates\": [\n",
              "        {\n",
              "          \"content\": {\n",
              "            \"parts\": [\n",
              "              {\n",
              "                \"text\": \"What quality do you want to download it in? \\n\"\n",
              "              }\n",
              "            ],\n",
              "            \"role\": \"model\"\n",
              "          },\n",
              "          \"finish_reason\": \"STOP\",\n",
              "          \"index\": 0,\n",
              "          \"safety_ratings\": [\n",
              "            {\n",
              "              \"category\": \"HARM_CATEGORY_SEXUALLY_EXPLICIT\",\n",
              "              \"probability\": \"NEGLIGIBLE\"\n",
              "            },\n",
              "            {\n",
              "              \"category\": \"HARM_CATEGORY_HATE_SPEECH\",\n",
              "              \"probability\": \"NEGLIGIBLE\"\n",
              "            },\n",
              "            {\n",
              "              \"category\": \"HARM_CATEGORY_HARASSMENT\",\n",
              "              \"probability\": \"NEGLIGIBLE\"\n",
              "            },\n",
              "            {\n",
              "              \"category\": \"HARM_CATEGORY_DANGEROUS_CONTENT\",\n",
              "              \"probability\": \"NEGLIGIBLE\"\n",
              "            }\n",
              "          ]\n",
              "        }\n",
              "      ],\n",
              "      \"usage_metadata\": {\n",
              "        \"prompt_token_count\": 404,\n",
              "        \"candidates_token_count\": 10,\n",
              "        \"total_token_count\": 414\n",
              "      }\n",
              "    }),\n",
              ")"
            ]
          },
          "metadata": {},
          "execution_count": 157
        }
      ]
    },
    {
      "cell_type": "code",
      "source": [
        "done = False\n",
        "fn = False"
      ],
      "metadata": {
        "id": "KnrtZ7YxHKvS"
      },
      "execution_count": null,
      "outputs": []
    },
    {
      "cell_type": "markdown",
      "source": [
        "### Detecting if there are losed parameters and resuming the chat session."
      ],
      "metadata": {
        "id": "HZC1v3yLMd5E"
      }
    },
    {
      "cell_type": "markdown",
      "source": [
        "➡️ Note that you have limits on using gemini models like how many requests per minute. <br>\n",
        "Go to this website for more --> https://ai.google.dev/pricing"
      ],
      "metadata": {
        "id": "1a8AGGBFIUdq"
      }
    },
    {
      "cell_type": "code",
      "source": [
        "# Print out each of the function calls requested from this single call.\n",
        "fn = False\n",
        "while not fn:\n",
        "  if done == True:\n",
        "        break\n",
        "  for part in response.parts:\n",
        "      responses = {}\n",
        "      if fn := part.function_call:\n",
        "          func = globals().get(fn.name)  # Enable me to use the name of the function as its corresponding function.\n",
        "          func(**fn.args)\n",
        "          # args = \", \".join(f\"{key}={val}\" for key, val in fn.args.items())\n",
        "          # print(f\"{fn.name}({args})\")\n",
        "\n",
        "          responses.update({fn.name: func(**fn.args)})\n",
        "          done = True\n",
        "\n",
        "\n",
        "      else:\n",
        "          print(part.text, end=\"\")\n",
        "          chat.send_message(part.text)\n",
        "          response = chat.send_message(input(\"try again: \"))\n",
        "\n",
        "\n",
        "# Build the response parts.\n",
        "# if done is not True:\n",
        "response_parts = [\n",
        "    genai.protos.Part(function_response=genai.protos.FunctionResponse(name=fn, response={\"result\": val}))\n",
        "    for fn, val in responses.items()\n",
        "]\n",
        "\n",
        "response = chat.send_message(response_parts)\n",
        "print(response.text)\n"
      ],
      "metadata": {
        "colab": {
          "base_uri": "https://localhost:8080/",
          "height": 53
        },
        "id": "NNRpOai_w7Ls",
        "outputId": "d55a430e-9f80-4dcf-948c-d37a58bd6fb2"
      },
      "execution_count": null,
      "outputs": [
        {
          "output_type": "stream",
          "name": "stdout",
          "text": [
            "OK. I have downloaded the video with quality 15. \n",
            "\n"
          ]
        }
      ]
    }
  ]
}